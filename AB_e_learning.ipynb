{
 "cells": [
  {
   "cell_type": "markdown",
   "metadata": {},
   "source": [
    "# Задание 1:  A/B тестирование\n",
    "В ходе тестирования одной гипотезы целевой группе была предложена новая механика оплаты услуг на сайте, у контрольной группы оставалась базовая механика. Необходимо проанализировать итоги эксперимента и сделать вывод, стоит ли запускать новую механику оплаты на всех пользователей.\n",
    "\n",
    "**Входные данные**\n",
    "\n",
    "В качестве входных данных Вы имеете 4 csv-файла:  \n",
    "    groups.csv - файл с информацией о принадлежности пользователя к контрольной или экспериментальной группе (А – контроль, B – целевая группа)   \n",
    "    groups_add.csv - дополнительный файл с пользователями, который вам прислали спустя 2 дня после передачи данных  \n",
    "    active_studs.csv - файл с информацией о пользователях, которые зашли на платформу в дни проведения эксперимента.   \n",
    "    checks.csv - файл с информацией об оплатах пользователей в дни проведения эксперимента. \n",
    "\n",
    "**Требования к ответу**  \n",
    "    При выполнении тестового задания необходимо использовать язык программирования Python.   \n",
    "    В файле обязательно должны быть комментарии к тем действиям, которые Вы выполняете с данными.  \n",
    "    Файл должен представлять собой законченный отчёт с выводами, сделанными в ходе исследования."
   ]
  },
  {
   "cell_type": "code",
   "execution_count": 1,
   "metadata": {},
   "outputs": [],
   "source": [
    "# проверка соответствия pep8\n",
    "# %load_ext pycodestyle_magic\n",
    "# %pycodestyle_on --ignore E402,W291,W293 --max_line_length 120"
   ]
  },
  {
   "cell_type": "markdown",
   "metadata": {},
   "source": [
    "### Импорт библиотек, скачивание файлов в датасет"
   ]
  },
  {
   "cell_type": "code",
   "execution_count": 2,
   "metadata": {},
   "outputs": [],
   "source": [
    "# импорт библиотек\n",
    "import pandas as pd\n",
    "import numpy as np\n",
    "from scipy.stats import norm, mannwhitneyu, shapiro\n",
    "from statsmodels.stats import proportion\n",
    "import matplotlib.pyplot as plt\n",
    "import seaborn as sns\n",
    "import requests\n",
    "from urllib.parse import urlencode\n",
    "%matplotlib inline"
   ]
  },
  {
   "cell_type": "markdown",
   "metadata": {},
   "source": [
    "Скачиваем файлы с Yandex Disc"
   ]
  },
  {
   "cell_type": "code",
   "execution_count": 3,
   "metadata": {},
   "outputs": [],
   "source": [
    "# ссылки на файлы\n",
    "links = {'groups': 'https://disk.yandex.ru/d/58Us0DWOzuWAjg',\n",
    "         'groups_add': 'https://disk.yandex.ru/d/3aARY-P9pfaksg',\n",
    "         'active_studs': 'https://disk.yandex.ru/d/prbgU-rZpiXVYg',\n",
    "         'checks': 'https://disk.yandex.ru/d/84hTmELphW2sqQ',\n",
    "         }\n",
    "\n",
    "base_url = 'https://cloud-api.yandex.net/v1/disk/public/resources/download?'\n",
    "\n",
    "# Получаем загрузочные ссылки на 4 файла в словаре\n",
    "download_urls = {}\n",
    "for link in links:\n",
    "    final_url = base_url + urlencode(dict(public_key=links[link]))\n",
    "    response = requests.get(final_url)\n",
    "    download_urls[link] = response.json()['href']"
   ]
  },
  {
   "cell_type": "markdown",
   "metadata": {},
   "source": [
    "Считываем файлы в датафреймы"
   ]
  },
  {
   "cell_type": "code",
   "execution_count": 4,
   "metadata": {},
   "outputs": [],
   "source": [
    "# функция, характеризующая датафрейм\n",
    "def df_about(df,\n",
    "             groups_ids=False,\n",
    "             student_col=0,\n",
    "             group_col=1):\n",
    "    \"\"\"\n",
    "    Функция возращает информацию о количестве строк, дублирующихся строках, пропущенных значениях,\n",
    "    распределению пользователей по группам.\n",
    "        df - датафрейм\n",
    "        groups_ids=False - есть ли колонка с обозначением группы\n",
    "        student_col=0 - номер колонки с id пользователя\n",
    "        group_col=1) -  номер колонки с обозначением группы\n",
    "    \"\"\"\n",
    "    print(f'Всего строк:{df.shape[0]}')\n",
    "    print(f'Дублирующихся строк по пользователям: {df.iloc[:, student_col].duplicated().sum()}')\n",
    "    print(f'\\nПропущенных значений: \\n{df.isna().sum()}')\n",
    "    if groups_ids:\n",
    "        print(f'\\nКоличество пользователей в группах: \\n{df.iloc[:, group_col].value_counts()}')\n",
    "        print(f'\\n - в процентах:\\n{df.iloc[:, group_col].value_counts(normalize=True).mul(100).round(2)}')"
   ]
  },
  {
   "cell_type": "code",
   "execution_count": 5,
   "metadata": {},
   "outputs": [
    {
     "data": {
      "text/html": [
       "<div>\n",
       "<style scoped>\n",
       "    .dataframe tbody tr th:only-of-type {\n",
       "        vertical-align: middle;\n",
       "    }\n",
       "\n",
       "    .dataframe tbody tr th {\n",
       "        vertical-align: top;\n",
       "    }\n",
       "\n",
       "    .dataframe thead th {\n",
       "        text-align: right;\n",
       "    }\n",
       "</style>\n",
       "<table border=\"1\" class=\"dataframe\">\n",
       "  <thead>\n",
       "    <tr style=\"text-align: right;\">\n",
       "      <th></th>\n",
       "      <th>id</th>\n",
       "      <th>grp</th>\n",
       "    </tr>\n",
       "  </thead>\n",
       "  <tbody>\n",
       "    <tr>\n",
       "      <th>0</th>\n",
       "      <td>1489</td>\n",
       "      <td>B</td>\n",
       "    </tr>\n",
       "    <tr>\n",
       "      <th>1</th>\n",
       "      <td>1627</td>\n",
       "      <td>A</td>\n",
       "    </tr>\n",
       "  </tbody>\n",
       "</table>\n",
       "</div>"
      ],
      "text/plain": [
       "     id grp\n",
       "0  1489   B\n",
       "1  1627   A"
      ]
     },
     "execution_count": 5,
     "metadata": {},
     "output_type": "execute_result"
    }
   ],
   "source": [
    "# данные о принадлежности пользователя к контрольной или экспериментальной группе\n",
    "# (А – контроль, B – целевая группа)\n",
    "groups = pd.read_csv(download_urls['groups'], sep=';')\n",
    "groups.head(2)"
   ]
  },
  {
   "cell_type": "code",
   "execution_count": 6,
   "metadata": {},
   "outputs": [
    {
     "name": "stdout",
     "output_type": "stream",
     "text": [
      "Всего строк:74484\n",
      "Дублирующихся строк по пользователям: 0\n",
      "\n",
      "Пропущенных значений: \n",
      "id     0\n",
      "grp    0\n",
      "dtype: int64\n",
      "\n",
      "Количество пользователей в группах: \n",
      "B    59813\n",
      "A    14671\n",
      "Name: grp, dtype: int64\n",
      "\n",
      " - в процентах:\n",
      "B    80.3\n",
      "A    19.7\n",
      "Name: grp, dtype: float64\n"
     ]
    }
   ],
   "source": [
    "df_about(groups, groups_ids=True)"
   ]
  },
  {
   "cell_type": "code",
   "execution_count": 7,
   "metadata": {},
   "outputs": [
    {
     "data": {
      "text/html": [
       "<div>\n",
       "<style scoped>\n",
       "    .dataframe tbody tr th:only-of-type {\n",
       "        vertical-align: middle;\n",
       "    }\n",
       "\n",
       "    .dataframe tbody tr th {\n",
       "        vertical-align: top;\n",
       "    }\n",
       "\n",
       "    .dataframe thead th {\n",
       "        text-align: right;\n",
       "    }\n",
       "</style>\n",
       "<table border=\"1\" class=\"dataframe\">\n",
       "  <thead>\n",
       "    <tr style=\"text-align: right;\">\n",
       "      <th></th>\n",
       "      <th>id</th>\n",
       "      <th>grp</th>\n",
       "    </tr>\n",
       "  </thead>\n",
       "  <tbody>\n",
       "    <tr>\n",
       "      <th>0</th>\n",
       "      <td>5694584</td>\n",
       "      <td>B</td>\n",
       "    </tr>\n",
       "    <tr>\n",
       "      <th>1</th>\n",
       "      <td>5694830</td>\n",
       "      <td>B</td>\n",
       "    </tr>\n",
       "  </tbody>\n",
       "</table>\n",
       "</div>"
      ],
      "text/plain": [
       "        id grp\n",
       "0  5694584   B\n",
       "1  5694830   B"
      ]
     },
     "execution_count": 7,
     "metadata": {},
     "output_type": "execute_result"
    }
   ],
   "source": [
    "# дополнительный файл с пользователями, который прислали спустя 2 дня после передачи данных\n",
    "groups_add = pd.read_csv(download_urls['groups_add'])\n",
    "groups_add.head(2)"
   ]
  },
  {
   "cell_type": "code",
   "execution_count": 8,
   "metadata": {},
   "outputs": [
    {
     "name": "stdout",
     "output_type": "stream",
     "text": [
      "Всего строк:92\n",
      "Дублирующихся строк по пользователям: 0\n",
      "\n",
      "Пропущенных значений: \n",
      "id     0\n",
      "grp    0\n",
      "dtype: int64\n",
      "\n",
      "Количество пользователей в группах: \n",
      "B    70\n",
      "A    22\n",
      "Name: grp, dtype: int64\n",
      "\n",
      " - в процентах:\n",
      "B    76.09\n",
      "A    23.91\n",
      "Name: grp, dtype: float64\n"
     ]
    }
   ],
   "source": [
    "df_about(groups_add, groups_ids=True)"
   ]
  },
  {
   "cell_type": "code",
   "execution_count": 9,
   "metadata": {},
   "outputs": [
    {
     "name": "stdout",
     "output_type": "stream",
     "text": [
      "Всего строк:74576\n",
      "Дублирующихся строк по пользователям: 0\n",
      "\n",
      "Пропущенных значений: \n",
      "id     0\n",
      "grp    0\n",
      "dtype: int64\n",
      "\n",
      "Количество пользователей в группах: \n",
      "B    59883\n",
      "A    14693\n",
      "Name: grp, dtype: int64\n",
      "\n",
      " - в процентах:\n",
      "B    80.3\n",
      "A    19.7\n",
      "Name: grp, dtype: float64\n"
     ]
    }
   ],
   "source": [
    "# объединим данные в один датасет\n",
    "groups = groups.append(groups_add)\n",
    "df_about(groups, groups_ids=True)"
   ]
  },
  {
   "cell_type": "code",
   "execution_count": 10,
   "metadata": {},
   "outputs": [
    {
     "data": {
      "text/html": [
       "<div>\n",
       "<style scoped>\n",
       "    .dataframe tbody tr th:only-of-type {\n",
       "        vertical-align: middle;\n",
       "    }\n",
       "\n",
       "    .dataframe tbody tr th {\n",
       "        vertical-align: top;\n",
       "    }\n",
       "\n",
       "    .dataframe thead th {\n",
       "        text-align: right;\n",
       "    }\n",
       "</style>\n",
       "<table border=\"1\" class=\"dataframe\">\n",
       "  <thead>\n",
       "    <tr style=\"text-align: right;\">\n",
       "      <th></th>\n",
       "      <th>student_id</th>\n",
       "    </tr>\n",
       "  </thead>\n",
       "  <tbody>\n",
       "    <tr>\n",
       "      <th>0</th>\n",
       "      <td>581585</td>\n",
       "    </tr>\n",
       "    <tr>\n",
       "      <th>1</th>\n",
       "      <td>5723133</td>\n",
       "    </tr>\n",
       "  </tbody>\n",
       "</table>\n",
       "</div>"
      ],
      "text/plain": [
       "   student_id\n",
       "0      581585\n",
       "1     5723133"
      ]
     },
     "execution_count": 10,
     "metadata": {},
     "output_type": "execute_result"
    }
   ],
   "source": [
    "# пользователи, которые зашли на платформу в дни проведения эксперимента\n",
    "active_studs = pd.read_csv(download_urls['active_studs'])\n",
    "active_studs.head(2)"
   ]
  },
  {
   "cell_type": "code",
   "execution_count": 11,
   "metadata": {},
   "outputs": [
    {
     "name": "stdout",
     "output_type": "stream",
     "text": [
      "Всего строк:8341\n",
      "Дублирующихся строк по пользователям: 0\n",
      "\n",
      "Пропущенных значений: \n",
      "student_id    0\n",
      "dtype: int64\n"
     ]
    }
   ],
   "source": [
    "df_about(active_studs)"
   ]
  },
  {
   "cell_type": "code",
   "execution_count": 12,
   "metadata": {},
   "outputs": [
    {
     "data": {
      "text/html": [
       "<div>\n",
       "<style scoped>\n",
       "    .dataframe tbody tr th:only-of-type {\n",
       "        vertical-align: middle;\n",
       "    }\n",
       "\n",
       "    .dataframe tbody tr th {\n",
       "        vertical-align: top;\n",
       "    }\n",
       "\n",
       "    .dataframe thead th {\n",
       "        text-align: right;\n",
       "    }\n",
       "</style>\n",
       "<table border=\"1\" class=\"dataframe\">\n",
       "  <thead>\n",
       "    <tr style=\"text-align: right;\">\n",
       "      <th></th>\n",
       "      <th>student_id</th>\n",
       "      <th>rev</th>\n",
       "    </tr>\n",
       "  </thead>\n",
       "  <tbody>\n",
       "    <tr>\n",
       "      <th>0</th>\n",
       "      <td>1627</td>\n",
       "      <td>990.0</td>\n",
       "    </tr>\n",
       "    <tr>\n",
       "      <th>1</th>\n",
       "      <td>3185</td>\n",
       "      <td>690.0</td>\n",
       "    </tr>\n",
       "  </tbody>\n",
       "</table>\n",
       "</div>"
      ],
      "text/plain": [
       "   student_id    rev\n",
       "0        1627  990.0\n",
       "1        3185  690.0"
      ]
     },
     "execution_count": 12,
     "metadata": {},
     "output_type": "execute_result"
    }
   ],
   "source": [
    "# информация об оплатах пользователей в дни проведения эксперимента\n",
    "checks = pd.read_csv(download_urls['checks'], sep=';')\n",
    "checks.head(2)"
   ]
  },
  {
   "cell_type": "code",
   "execution_count": 13,
   "metadata": {},
   "outputs": [
    {
     "name": "stdout",
     "output_type": "stream",
     "text": [
      "Всего строк:541\n",
      "Дублирующихся строк по пользователям: 0\n",
      "\n",
      "Пропущенных значений: \n",
      "student_id    0\n",
      "rev           0\n",
      "dtype: int64\n"
     ]
    }
   ],
   "source": [
    "df_about(checks)"
   ]
  },
  {
   "cell_type": "markdown",
   "metadata": {},
   "source": [
    "## Определение метрик\n",
    "\n",
    "Разделение пользователей на группы произведено неравномерно, соотношение целевой и контрольной составляет 80/20 (т.е. изменение механики оплаты предложено гораздо большему количеству пользователей - если бы компания не ожидала с большой долей вероятности значимый положительный эффект от этого изменения, распределение было бы 50/50 либо новая механика была бы предложена меньшей доле пользователей).  \n",
    "В таких условиях есть смысл рассматривать только относительные метрики, приведенные к количеству пользователей.  \n",
    "По результатам теста нам доступны данные по пользователям, которые зашли на платформу в дни эксперимента, совершили оплату (или оплаты), а также объемы оплат. \n",
    "Оценим:\n",
    " - ARPPU (средний доход на платящего пользователя), \n",
    " - ARPAU (средний доход на активного пользователя),\n",
    " - ARPU (средний доход на привлеченного пользователя),\n",
    " - CR (конверсия в оплату),\n",
    " - CR_A (конверсия активного пользователя в оплату)\n",
    "\n",
    "$ARPPU = \\frac{Доход}{Количество \\ пользователей, \\ совершивших \\ оплату}$\n",
    "\n",
    "$ARPAU = \\frac{Доход}{Количество \\ активных \\ пользователей}$\n",
    "\n",
    "$ARPU = \\frac{Доход}{Количество \\ пользователей}$\n",
    "\n",
    "$CR = \\frac{ Количество \\ пользователей, \\ совершивших \\ оплату }{ Количество \\ пользователей} $$\\times 100 $ % \n",
    "\n",
    "$CR_A = \\frac{ Количество \\ пользователей, \\ совершивших \\ оплату }{ Количество \\ активных \\ пользователей} $$\\times 100 $ % \n",
    "\n",
    "В качестве целевых метрик, для которых определим значимость различия в группах, выступают ARPPU и СR."
   ]
  },
  {
   "cell_type": "markdown",
   "metadata": {},
   "source": [
    "<strong>Сведем данные в один датасет</strong>  \n",
    "(к данным по пользователям в разрезе групп добавим данные по пользователеям, зашедшим на платформу в дни проведения эксперимента (введем столбец с меткой \"1\" для активных), и данные по оплатам)"
   ]
  },
  {
   "cell_type": "code",
   "execution_count": 14,
   "metadata": {},
   "outputs": [
    {
     "data": {
      "text/html": [
       "<div>\n",
       "<style scoped>\n",
       "    .dataframe tbody tr th:only-of-type {\n",
       "        vertical-align: middle;\n",
       "    }\n",
       "\n",
       "    .dataframe tbody tr th {\n",
       "        vertical-align: top;\n",
       "    }\n",
       "\n",
       "    .dataframe thead th {\n",
       "        text-align: right;\n",
       "    }\n",
       "</style>\n",
       "<table border=\"1\" class=\"dataframe\">\n",
       "  <thead>\n",
       "    <tr style=\"text-align: right;\">\n",
       "      <th></th>\n",
       "      <th>student_id</th>\n",
       "      <th>group</th>\n",
       "      <th>activity</th>\n",
       "      <th>revenue</th>\n",
       "    </tr>\n",
       "  </thead>\n",
       "  <tbody>\n",
       "    <tr>\n",
       "      <th>0</th>\n",
       "      <td>1489</td>\n",
       "      <td>B</td>\n",
       "      <td>NaN</td>\n",
       "      <td>NaN</td>\n",
       "    </tr>\n",
       "    <tr>\n",
       "      <th>1</th>\n",
       "      <td>1627</td>\n",
       "      <td>A</td>\n",
       "      <td>1.0</td>\n",
       "      <td>990.0</td>\n",
       "    </tr>\n",
       "    <tr>\n",
       "      <th>2</th>\n",
       "      <td>1768</td>\n",
       "      <td>B</td>\n",
       "      <td>NaN</td>\n",
       "      <td>NaN</td>\n",
       "    </tr>\n",
       "    <tr>\n",
       "      <th>3</th>\n",
       "      <td>1783</td>\n",
       "      <td>B</td>\n",
       "      <td>NaN</td>\n",
       "      <td>NaN</td>\n",
       "    </tr>\n",
       "    <tr>\n",
       "      <th>4</th>\n",
       "      <td>1794</td>\n",
       "      <td>A</td>\n",
       "      <td>NaN</td>\n",
       "      <td>NaN</td>\n",
       "    </tr>\n",
       "  </tbody>\n",
       "</table>\n",
       "</div>"
      ],
      "text/plain": [
       "   student_id group  activity  revenue\n",
       "0        1489     B       NaN      NaN\n",
       "1        1627     A       1.0    990.0\n",
       "2        1768     B       NaN      NaN\n",
       "3        1783     B       NaN      NaN\n",
       "4        1794     A       NaN      NaN"
      ]
     },
     "execution_count": 14,
     "metadata": {},
     "output_type": "execute_result"
    }
   ],
   "source": [
    "df = groups \\\n",
    "    .rename(columns={'id': 'student_id'}) \\\n",
    "    .merge(active_studs.assign(activity=1), how='outer', on='student_id') \\\n",
    "    .merge(checks, on='student_id', how='outer') \\\n",
    "    .rename(columns={'grp': 'group', 'rev': 'revenue'})\n",
    "df.head()"
   ]
  },
  {
   "cell_type": "code",
   "execution_count": 15,
   "metadata": {},
   "outputs": [
    {
     "name": "stdout",
     "output_type": "stream",
     "text": [
      "Всего строк:74576\n",
      "Дублирующихся строк по пользователям: 0\n",
      "\n",
      "Пропущенных значений: \n",
      "student_id        0\n",
      "group             0\n",
      "activity      66235\n",
      "revenue       74035\n",
      "dtype: int64\n",
      "\n",
      "Количество пользователей в группах: \n",
      "B    59883\n",
      "A    14693\n",
      "Name: group, dtype: int64\n",
      "\n",
      " - в процентах:\n",
      "B    80.3\n",
      "A    19.7\n",
      "Name: group, dtype: float64\n"
     ]
    }
   ],
   "source": [
    "df_about(df, groups_ids=True)"
   ]
  },
  {
   "cell_type": "markdown",
   "metadata": {},
   "source": [
    "Пропущенных значений в первых двух колонках нет, значит, учтены все пользователи. \n",
    "Проверим, нет ли оплат, совершенных неактивными пользователями"
   ]
  },
  {
   "cell_type": "code",
   "execution_count": 16,
   "metadata": {},
   "outputs": [
    {
     "data": {
      "text/plain": [
       "student_id    149\n",
       "group         149\n",
       "activity        0\n",
       "revenue       149\n",
       "dtype: int64"
      ]
     },
     "execution_count": 16,
     "metadata": {},
     "output_type": "execute_result"
    }
   ],
   "source": [
    "missed_active_df = df.query(\"activity != 1 & revenue.notna()\")\n",
    "missed_active_df.count()"
   ]
  },
  {
   "cell_type": "code",
   "execution_count": 17,
   "metadata": {},
   "outputs": [
    {
     "data": {
      "text/html": [
       "<div>\n",
       "<style scoped>\n",
       "    .dataframe tbody tr th:only-of-type {\n",
       "        vertical-align: middle;\n",
       "    }\n",
       "\n",
       "    .dataframe tbody tr th {\n",
       "        vertical-align: top;\n",
       "    }\n",
       "\n",
       "    .dataframe thead th {\n",
       "        text-align: right;\n",
       "    }\n",
       "</style>\n",
       "<table border=\"1\" class=\"dataframe\">\n",
       "  <thead>\n",
       "    <tr style=\"text-align: right;\">\n",
       "      <th></th>\n",
       "      <th>student_id</th>\n",
       "    </tr>\n",
       "    <tr>\n",
       "      <th>group</th>\n",
       "      <th></th>\n",
       "    </tr>\n",
       "  </thead>\n",
       "  <tbody>\n",
       "    <tr>\n",
       "      <th>A</th>\n",
       "      <td>29</td>\n",
       "    </tr>\n",
       "    <tr>\n",
       "      <th>B</th>\n",
       "      <td>120</td>\n",
       "    </tr>\n",
       "  </tbody>\n",
       "</table>\n",
       "</div>"
      ],
      "text/plain": [
       "       student_id\n",
       "group            \n",
       "A              29\n",
       "B             120"
      ]
     },
     "execution_count": 17,
     "metadata": {},
     "output_type": "execute_result"
    }
   ],
   "source": [
    "missed_active_df.groupby('group').agg({'student_id': 'count'})"
   ]
  },
  {
   "cell_type": "markdown",
   "metadata": {},
   "source": [
    "В данных 149 пользоватей, совершивших оплату и не указанные в числе активных. При этом количество пользователей в группах пропорционально размеру групп. Возможно, это связано с ошибками при логировании. Отметим этих пользователей меткой '1' в колонке activity. Затем всем остальным, неактивным, присвоим значение активности '0'."
   ]
  },
  {
   "cell_type": "code",
   "execution_count": 18,
   "metadata": {},
   "outputs": [],
   "source": [
    "df = missed_active_df \\\n",
    "    .fillna(1) \\\n",
    "    .append(df.loc[~df.student_id.isin(missed_active_df['student_id'])])\n",
    "df.activity.fillna(0, inplace=True)"
   ]
  },
  {
   "cell_type": "code",
   "execution_count": 19,
   "metadata": {},
   "outputs": [
    {
     "name": "stdout",
     "output_type": "stream",
     "text": [
      "Всего строк:74576\n",
      "Дублирующихся строк по пользователям: 0\n",
      "\n",
      "Пропущенных значений: \n",
      "student_id        0\n",
      "group             0\n",
      "activity          0\n",
      "revenue       74035\n",
      "dtype: int64\n",
      "\n",
      "Количество пользователей в группах: \n",
      "B    59883\n",
      "A    14693\n",
      "Name: group, dtype: int64\n",
      "\n",
      " - в процентах:\n",
      "B    80.3\n",
      "A    19.7\n",
      "Name: group, dtype: float64\n"
     ]
    }
   ],
   "source": [
    "df_about(df, groups_ids=True)"
   ]
  },
  {
   "cell_type": "markdown",
   "metadata": {},
   "source": [
    "## Расчет метрик"
   ]
  },
  {
   "cell_type": "code",
   "execution_count": 20,
   "metadata": {},
   "outputs": [],
   "source": [
    "# визуализируем распределения сумм оплат в каждой из групп\n",
    "def revenue_dist_plot(data):\n",
    "    \"\"\"\n",
    "    Функция строит графики распределения сумм оплат в разрезе групп (гистограмму, скрипичную диаграмму и ящик с усами)\n",
    "    \"\"\"\n",
    "    sns.set_theme(style=\"whitegrid\", palette='winter')\n",
    "    sns.set_palette('colorblind')\n",
    "\n",
    "    fig, (ax1, ax2, ax3) = plt.subplots(nrows=1, ncols=3, figsize=(16, 5))\n",
    "    fig.suptitle('Распределение сумм оплат в контрольной (А) и целевой (B) группах', fontsize=16)\n",
    "\n",
    "    sns.histplot(data=data, x='revenue', hue='group', ax=ax1, bins=30, stat='density', hue_order=['A', 'B'])\n",
    "    ax1.set(xlabel='', ylabel='density', title='')\n",
    "\n",
    "    sns.violinplot(data=data, x='revenue', y='group', ax=ax2, order=['A', 'B'])\n",
    "    ax2.set(xlabel='', ylabel='group', title='')\n",
    "\n",
    "    sns.boxplot(data=data, x='revenue', y='group', ax=ax3, order=['A', 'B'])\n",
    "    ax3.set(xlabel='', ylabel='', title='')\n",
    "\n",
    "    fig.text(0.5, 0.00, 'Сумма оплаты, руб.', va='center', ha='center', fontsize=14)\n",
    "    fig.tight_layout()\n",
    "    plt.subplots_adjust(top=0.9)\n",
    "    plt.show()"
   ]
  },
  {
   "cell_type": "code",
   "execution_count": 21,
   "metadata": {},
   "outputs": [
    {
     "data": {
      "image/png": "[encoded data removed]",
      "text/plain": [
       "<Figure size 1152x360 with 3 Axes>"
      ]
     },
     "metadata": {},
     "output_type": "display_data"
    }
   ],
   "source": [
    "revenue_dist_plot(df)"
   ]
  },
  {
   "cell_type": "markdown",
   "metadata": {},
   "source": [
    "Как видим, распределения далеки от нормальных, скошены вправо. Максимальные суммы значительно превышают медианные значения. Наблюдаем несколько выбросов, удалять их из фрейма для целей оценки результатов теста считаю нецелесообразным, так как они характеризуют особо активных студентов и наблюдаются в обеих группах.  \n",
    "Стоит отметить, что распределение в целевой группе полимодально: наиболее часто отмечены не только оплаты в пределах 300 и 700 руб.(что характерно и для контрольной группы), но и в размере 1900 руб. Поэтому медиана распределения в целевой группе находится практически на границе третьего квартиля распределения в контрольной группе.  \n",
    "**Рассчитаем значения метрик**:"
   ]
  },
  {
   "cell_type": "code",
   "execution_count": 22,
   "metadata": {},
   "outputs": [
    {
     "data": {
      "text/html": [
       "<style  type=\"text/css\" >\n",
       "#T_66c873be_f330_11ec_bdbb_96000040dfb6row0_col7,#T_66c873be_f330_11ec_bdbb_96000040dfb6row0_col8,#T_66c873be_f330_11ec_bdbb_96000040dfb6row1_col4,#T_66c873be_f330_11ec_bdbb_96000040dfb6row1_col5,#T_66c873be_f330_11ec_bdbb_96000040dfb6row1_col6{\n",
       "            background-color:  #91A5EB;\n",
       "        }</style><table id=\"T_66c873be_f330_11ec_bdbb_96000040dfb6\" ><caption>Метрики по контрольной (А) и целевой (В) группам</caption><thead>    <tr>        <th class=\"blank level0\" ></th>        <th class=\"col_heading level0 col0\" >users</th>        <th class=\"col_heading level0 col1\" >active_users</th>        <th class=\"col_heading level0 col2\" >paying_users</th>        <th class=\"col_heading level0 col3\" >revenue</th>        <th class=\"col_heading level0 col4\" >ARPPU</th>        <th class=\"col_heading level0 col5\" >ARPAU</th>        <th class=\"col_heading level0 col6\" >ARPU</th>        <th class=\"col_heading level0 col7\" >CR</th>        <th class=\"col_heading level0 col8\" >CR_A</th>    </tr></thead><tbody>\n",
       "                <tr>\n",
       "                        <th id=\"T_66c873be_f330_11ec_bdbb_96000040dfb6level0_row0\" class=\"row_heading level0 row0\" >A</th>\n",
       "                        <td id=\"T_66c873be_f330_11ec_bdbb_96000040dfb6row0_col0\" class=\"data row0 col0\" >14693</td>\n",
       "                        <td id=\"T_66c873be_f330_11ec_bdbb_96000040dfb6row0_col1\" class=\"data row0 col1\" >1567</td>\n",
       "                        <td id=\"T_66c873be_f330_11ec_bdbb_96000040dfb6row0_col2\" class=\"data row0 col2\" >107</td>\n",
       "                        <td id=\"T_66c873be_f330_11ec_bdbb_96000040dfb6row0_col3\" class=\"data row0 col3\" >92096</td>\n",
       "                        <td id=\"T_66c873be_f330_11ec_bdbb_96000040dfb6row0_col4\" class=\"data row0 col4\" >860.71</td>\n",
       "                        <td id=\"T_66c873be_f330_11ec_bdbb_96000040dfb6row0_col5\" class=\"data row0 col5\" >58.77</td>\n",
       "                        <td id=\"T_66c873be_f330_11ec_bdbb_96000040dfb6row0_col6\" class=\"data row0 col6\" >6.27</td>\n",
       "                        <td id=\"T_66c873be_f330_11ec_bdbb_96000040dfb6row0_col7\" class=\"data row0 col7\" >0.73</td>\n",
       "                        <td id=\"T_66c873be_f330_11ec_bdbb_96000040dfb6row0_col8\" class=\"data row0 col8\" >6.83</td>\n",
       "            </tr>\n",
       "            <tr>\n",
       "                        <th id=\"T_66c873be_f330_11ec_bdbb_96000040dfb6level0_row1\" class=\"row_heading level0 row1\" >B</th>\n",
       "                        <td id=\"T_66c873be_f330_11ec_bdbb_96000040dfb6row1_col0\" class=\"data row1 col0\" >59883</td>\n",
       "                        <td id=\"T_66c873be_f330_11ec_bdbb_96000040dfb6row1_col1\" class=\"data row1 col1\" >6923</td>\n",
       "                        <td id=\"T_66c873be_f330_11ec_bdbb_96000040dfb6row1_col2\" class=\"data row1 col2\" >434</td>\n",
       "                        <td id=\"T_66c873be_f330_11ec_bdbb_96000040dfb6row1_col3\" class=\"data row1 col3\" >481230</td>\n",
       "                        <td id=\"T_66c873be_f330_11ec_bdbb_96000040dfb6row1_col4\" class=\"data row1 col4\" >1108.82</td>\n",
       "                        <td id=\"T_66c873be_f330_11ec_bdbb_96000040dfb6row1_col5\" class=\"data row1 col5\" >69.51</td>\n",
       "                        <td id=\"T_66c873be_f330_11ec_bdbb_96000040dfb6row1_col6\" class=\"data row1 col6\" >8.04</td>\n",
       "                        <td id=\"T_66c873be_f330_11ec_bdbb_96000040dfb6row1_col7\" class=\"data row1 col7\" >0.72</td>\n",
       "                        <td id=\"T_66c873be_f330_11ec_bdbb_96000040dfb6row1_col8\" class=\"data row1 col8\" >6.27</td>\n",
       "            </tr>\n",
       "    </tbody></table>"
      ],
      "text/plain": [
       "<pandas.io.formats.style.Styler at 0x7f866badb978>"
      ]
     },
     "execution_count": 22,
     "metadata": {},
     "output_type": "execute_result"
    }
   ],
   "source": [
    "# заведем отдельный датафрейм для формирования таблицы метрик по группам\n",
    "metrics = pd.DataFrame(index=['A', 'B'])\n",
    "\n",
    "# всего пользователей-студентов\n",
    "metrics['users'] = df.groupby('group') \\\n",
    "                     .agg({'student_id': 'count'}).student_id\n",
    "\n",
    "# количество активных студентов\n",
    "metrics['active_users'] = df.groupby('group') \\\n",
    "                            .agg({'activity': 'sum'}).activity\n",
    "\n",
    "# количество платящих студентов\n",
    "metrics['paying_users'] = df.groupby('group') \\\n",
    "                            .agg({'revenue': 'count'}).revenue\n",
    "\n",
    "# совокупный доход\n",
    "metrics['revenue'] = df.groupby('group') \\\n",
    "                       .agg({'revenue': 'sum'})\n",
    "\n",
    "# соответствующие метрики\n",
    "metrics['ARPPU'] = metrics.revenue / metrics.paying_users\n",
    "\n",
    "metrics['ARPAU'] = metrics.revenue / metrics.active_users\n",
    "\n",
    "metrics['ARPU'] = metrics.revenue / metrics.users\n",
    "\n",
    "metrics['CR'] = metrics.paying_users / metrics.users * 100\n",
    "\n",
    "metrics['CR_A'] = metrics.paying_users / metrics.active_users * 100\n",
    "\n",
    "# оформим таблицу, отметим более высокие значения метрик синим\n",
    "metrics.style.highlight_max(subset=['ARPPU', 'ARPAU', 'ARPU', 'CR', 'CR_A'], color='#91A5EB') \\\n",
    "             .format(\"{:.2f}\", subset=metrics.columns.drop(['paying_users', 'active_users', 'users'])) \\\n",
    "             .format(\"{:.0f}\", subset=['active_users', 'revenue']) \\\n",
    "             .set_caption('Метрики по контрольной (А) и целевой (В) группам')"
   ]
  },
  {
   "cell_type": "code",
   "execution_count": 23,
   "metadata": {},
   "outputs": [
    {
     "data": {
      "text/html": [
       "<div>\n",
       "<style scoped>\n",
       "    .dataframe tbody tr th:only-of-type {\n",
       "        vertical-align: middle;\n",
       "    }\n",
       "\n",
       "    .dataframe tbody tr th {\n",
       "        vertical-align: top;\n",
       "    }\n",
       "\n",
       "    .dataframe thead th {\n",
       "        text-align: right;\n",
       "    }\n",
       "</style>\n",
       "<table border=\"1\" class=\"dataframe\">\n",
       "  <thead>\n",
       "    <tr style=\"text-align: right;\">\n",
       "      <th></th>\n",
       "      <th>diff</th>\n",
       "      <th>diff_percent</th>\n",
       "    </tr>\n",
       "  </thead>\n",
       "  <tbody>\n",
       "    <tr>\n",
       "      <th>ARPPU</th>\n",
       "      <td>248.11</td>\n",
       "      <td>28.83</td>\n",
       "    </tr>\n",
       "    <tr>\n",
       "      <th>ARPAU</th>\n",
       "      <td>10.74</td>\n",
       "      <td>18.27</td>\n",
       "    </tr>\n",
       "    <tr>\n",
       "      <th>ARPU</th>\n",
       "      <td>1.77</td>\n",
       "      <td>28.21</td>\n",
       "    </tr>\n",
       "    <tr>\n",
       "      <th>CR</th>\n",
       "      <td>-0.00</td>\n",
       "      <td>-0.48</td>\n",
       "    </tr>\n",
       "    <tr>\n",
       "      <th>CR_A</th>\n",
       "      <td>-0.56</td>\n",
       "      <td>-8.19</td>\n",
       "    </tr>\n",
       "  </tbody>\n",
       "</table>\n",
       "</div>"
      ],
      "text/plain": [
       "         diff  diff_percent\n",
       "ARPPU  248.11         28.83\n",
       "ARPAU   10.74         18.27\n",
       "ARPU     1.77         28.21\n",
       "CR      -0.00         -0.48\n",
       "CR_A    -0.56         -8.19"
      ]
     },
     "execution_count": 23,
     "metadata": {},
     "output_type": "execute_result"
    }
   ],
   "source": [
    "# рассчитаем разницу между показателями целевой и контрольной групп\n",
    "metrics_diff = metrics[['ARPPU', 'ARPAU', 'ARPU', 'CR', 'CR_A']].T\n",
    "\n",
    "# в абсолютном выражении\n",
    "metrics_diff['diff'] = (metrics_diff.B - metrics_diff.A).round(2)\n",
    "\n",
    "# в относительном выражении (в %)\n",
    "metrics_diff['diff_percent'] = (metrics_diff.B - metrics_diff.A).div(metrics_diff.A).mul(100).round(2)\n",
    "metrics_diff.drop(columns=['A', 'B'])"
   ]
  },
  {
   "cell_type": "markdown",
   "metadata": {},
   "source": [
    "Как видим, пользователи, которым была предложена новая механика оплаты, в среднем обеспечили больший доход, хотя конверсия в покупку оказалась несколько ниже. Оценим статистическую значимость полученных разниц."
   ]
  },
  {
   "cell_type": "markdown",
   "metadata": {},
   "source": [
    "## Оценим значимость полученных результатов"
   ]
  },
  {
   "cell_type": "markdown",
   "metadata": {},
   "source": [
    "#### ARPPU"
   ]
  },
  {
   "cell_type": "markdown",
   "metadata": {},
   "source": [
    "Так как значения сумм оплат распределены ненормально, размеры независимых выборок значительно отличаются, для сравнения их статистической однородости воспользуемся U-критерием Манна-Уитни. "
   ]
  },
  {
   "cell_type": "markdown",
   "metadata": {},
   "source": [
    "**Нулевая гипотеза:** законы распределения сумм оплат в контрольной и целевой группах не отличаются ($F_{A} = F_{B}$)  \n",
    "**Альтернативная гипотеза:** законы распределения сумм оплат в контрольной и целевой группах отличаются  (соответственно, $F_{A} < F_{B}$)"
   ]
  },
  {
   "cell_type": "code",
   "execution_count": 24,
   "metadata": {},
   "outputs": [],
   "source": [
    "# разделим данные на контрольную и целевую выборки\n",
    "a_group = df[df.group == 'A'].dropna().revenue\n",
    "b_group = df[df.group == 'B'].dropna().revenue"
   ]
  },
  {
   "cell_type": "code",
   "execution_count": 25,
   "metadata": {},
   "outputs": [
    {
     "name": "stdout",
     "output_type": "stream",
     "text": [
      "Распределение ненормальное\n",
      "Распределение ненормальное\n"
     ]
    }
   ],
   "source": [
    "# удостоверимся еще раз в ненормальности распределений\n",
    "def normality_test(data, alpha=0.05):\n",
    "    if shapiro(data).pvalue > alpha:\n",
    "        print('Распределение нормальное')\n",
    "    else:\n",
    "        print('Распределение ненормальное')\n",
    "\n",
    "\n",
    "normality_test(a_group)\n",
    "normality_test(b_group)"
   ]
  },
  {
   "cell_type": "code",
   "execution_count": 26,
   "metadata": {},
   "outputs": [
    {
     "data": {
      "text/plain": [
       "MannwhitneyuResult(statistic=17862.0, pvalue=0.00019316054996380152)"
      ]
     },
     "execution_count": 26,
     "metadata": {},
     "output_type": "execute_result"
    }
   ],
   "source": [
    "mannwhitneyu(a_group, b_group)"
   ]
  },
  {
   "cell_type": "markdown",
   "metadata": {},
   "source": [
    "Значение U-критерия значительно меньше 0,05. Учитывая, что критерий Манна-Уитни, как и любой статистический оценщик, чувствителен к дисбалансу размера выборок (т.е. чем сильнее дисбаланс, тем реже критерий будет обнаруживать реальную разницу), все это позволяет нам отклонить нулевую гипотезу.\n",
    "Делаем вывод о том, что полученное 29-процентное превышение ARPPU в целевой группе статистически значимо.  \n",
    "Также проверим этот вывод, применив бутстрап."
   ]
  },
  {
   "cell_type": "markdown",
   "metadata": {},
   "source": [
    "**Нулевая гипотеза:** средние значения в генеральных совокупностях контрольной и целевой групп равны (соответственно, $ARPPU_{A} = ARPPU_{B}$)  \n",
    "**Альтернативная гипотеза:** средние значения в генеральных совокупностях контрольной и целевой групп не равны (соответственно, $ARPPU_{A} < ARPPU_{B}$)"
   ]
  },
  {
   "cell_type": "code",
   "execution_count": 27,
   "metadata": {},
   "outputs": [],
   "source": [
    "# Объявим функцию, которая позволит проверять гипотезы с помощью бутстрапа\n",
    "def get_bootstrap(\n",
    "    data_column_1,  # числовые значения целевой выборки\n",
    "    data_column_2,  # числовые значения контрольной выборки\n",
    "    boot_it=10000,  # количество бутстрэп-подвыборок\n",
    "    statistic=np.mean,  # интересующая нас статистика\n",
    "    bootstrap_conf_level=0.95,  # уровень значимости\n",
    "    vizualize=True   # визуализация\n",
    "):\n",
    "    \"\"\"\n",
    "    Функция позволяет проверить гипотезу о равенстве выбранной статистики двух распределений с помощью бутстрапа,\n",
    "    возвращает значение p-value, доверительный интервал, оценку разницы статистик,\n",
    "    визуализирует распределение разниц статистик\n",
    "    \"\"\"\n",
    "    boot_len = max([len(data_column_1), len(data_column_2)])\n",
    "    boot_data = []\n",
    "    for i in range(boot_it):  # извлекаем подвыборки\n",
    "        samples_1 = data_column_1.sample(\n",
    "            boot_len,\n",
    "            replace=True   # параметр возвращения\n",
    "        ).values\n",
    "\n",
    "        samples_2 = data_column_2.sample(\n",
    "            boot_len,\n",
    "            replace=True\n",
    "        ).values\n",
    "\n",
    "        boot_data.append(statistic(samples_1 - samples_2))   # применяем статистику\n",
    "\n",
    "    pd_boot_data = pd.DataFrame(boot_data)\n",
    "\n",
    "    left_quant = (1 - bootstrap_conf_level) / 2\n",
    "    right_quant = 1 - (1 - bootstrap_conf_level) / 2\n",
    "    ci = pd_boot_data.quantile([left_quant, right_quant])   # границы доверительного интервала\n",
    "\n",
    "    p_1 = norm.cdf(\n",
    "        x=0,\n",
    "        loc=np.mean(boot_data),\n",
    "        scale=np.std(boot_data)\n",
    "    )\n",
    "    p_2 = norm.cdf(\n",
    "        x=0,\n",
    "        loc=-np.mean(boot_data),\n",
    "        scale=np.std(boot_data)\n",
    "    )\n",
    "    p_value = min(p_1, p_2) * 2\n",
    "\n",
    "    # Визуализация\n",
    "    if vizualize:\n",
    "        plt.hist(pd_boot_data[0], bins=50)\n",
    "        plt.style.use('ggplot')\n",
    "        plt.vlines(ci, ymin=0, ymax=50, linestyle='--')\n",
    "        plt.xlabel('boot_data')\n",
    "        plt.ylabel('frequency')\n",
    "        plt.title(\"Histogram of boot_data\")\n",
    "        plt.show()\n",
    "\n",
    "    return {\"boot_data\": boot_data,   # разница двух распределений\n",
    "            \"ci\": ci,   # доверительный интервал\n",
    "            \"p_value\": p_value}"
   ]
  },
  {
   "cell_type": "code",
   "execution_count": 28,
   "metadata": {},
   "outputs": [
    {
     "data": {
      "image/png": "[encoded data removed]",
      "text/plain": [
       "<Figure size 432x288 with 1 Axes>"
      ]
     },
     "metadata": {},
     "output_type": "display_data"
    },
    {
     "name": "stdout",
     "output_type": "stream",
     "text": [
      "P-value: 2.264541862943425e-06\n",
      "Доверительный интервал:            0\n",
      "0.025  145.7\n",
      "0.975  349.8\n",
      "Среднее для разницы двух распределений: 247.91\n"
     ]
    }
   ],
   "source": [
    "# Применим бутстрап (с np.mean):\n",
    "booted_data = get_bootstrap(b_group, a_group, boot_it=10000, statistic=np.mean)\n",
    "print(f\"P-value: {booted_data['p_value']}\")\n",
    "print(f\"Доверительный интервал: {booted_data['ci'].round(1)}\")\n",
    "print(f\"Среднее для разницы двух распределений: {round(np.mean(booted_data['boot_data']), 2)}\")"
   ]
  },
  {
   "cell_type": "markdown",
   "metadata": {},
   "source": [
    "Результаты позволяют отклонить нулевую гипотезу и сделать вывод о значимом превышении среднего значения в целевой группе над соответствующим значением в контрольной группе."
   ]
  },
  {
   "cell_type": "markdown",
   "metadata": {},
   "source": [
    "**Вывод по ARPPU**   \n",
    "В целевой группе показатель выше на 29%, разница статистически значима, можно предложить новую механику оплаты всем пользователям."
   ]
  },
  {
   "cell_type": "markdown",
   "metadata": {},
   "source": [
    "#### КОНВЕРСИЯ"
   ]
  },
  {
   "cell_type": "markdown",
   "metadata": {},
   "source": [
    "Также оценим статистическую значимость разницы в коэффициентах конверсии в обеих группах. Прежде всего, нас интересует отношение платящих пользователей к активным ($CR_{A}$), так как именно они ознакомлены с новой механикой оплаты.\n",
    "С учетом того, что число конверсий подчиняется биномиальному распределению, оценим p-уровень значимости и доверительный интервал разницы отношений в двух группах."
   ]
  },
  {
   "cell_type": "code",
   "execution_count": 29,
   "metadata": {},
   "outputs": [
    {
     "name": "stderr",
     "output_type": "stream",
     "text": [
      "/opt/tljh/user/lib/python3.7/site-packages/ipykernel_launcher.py:3: SettingWithCopyWarning: \n",
      "A value is trying to be set on a copy of a slice from a DataFrame.\n",
      "Try using .loc[row_indexer,col_indexer] = value instead\n",
      "\n",
      "See the caveats in the documentation: https://pandas.pydata.org/pandas-docs/stable/user_guide/indexing.html#returning-a-view-versus-a-copy\n",
      "  This is separate from the ipykernel package so we can avoid doing imports until\n"
     ]
    },
    {
     "data": {
      "text/html": [
       "<div>\n",
       "<style scoped>\n",
       "    .dataframe tbody tr th:only-of-type {\n",
       "        vertical-align: middle;\n",
       "    }\n",
       "\n",
       "    .dataframe tbody tr th {\n",
       "        vertical-align: top;\n",
       "    }\n",
       "\n",
       "    .dataframe thead th {\n",
       "        text-align: right;\n",
       "    }\n",
       "</style>\n",
       "<table border=\"1\" class=\"dataframe\">\n",
       "  <thead>\n",
       "    <tr style=\"text-align: right;\">\n",
       "      <th></th>\n",
       "      <th>student_id</th>\n",
       "      <th>revenue</th>\n",
       "      <th>group</th>\n",
       "      <th>activity</th>\n",
       "    </tr>\n",
       "  </thead>\n",
       "  <tbody>\n",
       "    <tr>\n",
       "      <th>0</th>\n",
       "      <td>3185</td>\n",
       "      <td>1</td>\n",
       "      <td>B</td>\n",
       "      <td>1.0</td>\n",
       "    </tr>\n",
       "    <tr>\n",
       "      <th>1</th>\n",
       "      <td>25973</td>\n",
       "      <td>1</td>\n",
       "      <td>B</td>\n",
       "      <td>1.0</td>\n",
       "    </tr>\n",
       "    <tr>\n",
       "      <th>2</th>\n",
       "      <td>26280</td>\n",
       "      <td>1</td>\n",
       "      <td>B</td>\n",
       "      <td>1.0</td>\n",
       "    </tr>\n",
       "    <tr>\n",
       "      <th>3</th>\n",
       "      <td>100645</td>\n",
       "      <td>1</td>\n",
       "      <td>B</td>\n",
       "      <td>1.0</td>\n",
       "    </tr>\n",
       "    <tr>\n",
       "      <th>4</th>\n",
       "      <td>102534</td>\n",
       "      <td>1</td>\n",
       "      <td>B</td>\n",
       "      <td>1.0</td>\n",
       "    </tr>\n",
       "  </tbody>\n",
       "</table>\n",
       "</div>"
      ],
      "text/plain": [
       "   student_id  revenue group  activity\n",
       "0        3185        1     B       1.0\n",
       "1       25973        1     B       1.0\n",
       "2       26280        1     B       1.0\n",
       "3      100645        1     B       1.0\n",
       "4      102534        1     B       1.0"
      ]
     },
     "execution_count": 29,
     "metadata": {},
     "output_type": "execute_result"
    }
   ],
   "source": [
    "# создадим датафрейм, в котором значения revenue заменим на 1 и 0 в зависимости от наличия факта оплаты\n",
    "cr_df = df[['student_id', 'revenue']]\n",
    "cr_df['revenue'] = cr_df['revenue'].notna().apply(int)\n",
    "cr_df = cr_df.merge(df.drop(columns=['revenue']), on='student_id')\n",
    "cr_df.head()"
   ]
  },
  {
   "cell_type": "markdown",
   "metadata": {},
   "source": [
    "**Нулевая гипотеза:** $CR_{A}(B) - CR_{A}(A) = 0$  \n",
    "**Альтернативная гипотеза:** $CR_{A}(B) - CR_{A}(A) \\not=0$"
   ]
  },
  {
   "cell_type": "code",
   "execution_count": 30,
   "metadata": {},
   "outputs": [],
   "source": [
    "# выделим выборки целевой и контрольной групп\n",
    "a_group = cr_df[(cr_df.activity == 1) & (cr_df.group == 'A')].revenue\n",
    "b_group = cr_df[(cr_df.activity == 1) & (cr_df.group == 'B')].revenue"
   ]
  },
  {
   "cell_type": "code",
   "execution_count": 31,
   "metadata": {},
   "outputs": [
    {
     "name": "stdout",
     "output_type": "stream",
     "text": [
      "P-value: 0.39166211669576845\n",
      "Оценка CRA_B - CRA_A: -0.005593758529530007\n",
      "Доверительный интервал разницы значений:\n"
     ]
    },
    {
     "data": {
      "text/plain": [
       "(-0.020228542905411432, 0.0073235306577362005)"
      ]
     },
     "execution_count": 31,
     "metadata": {},
     "output_type": "execute_result"
    }
   ],
   "source": [
    "# результат сравнения двух независимых отношений (pvalue и оценка абсолютной разницы показателей)\n",
    "cra_test_results = proportion.test_proportions_2indep(b_group.sum(), b_group.count(), a_group.sum(), a_group.count())\n",
    "print(f'P-value: {cra_test_results.pvalue}')\n",
    "print(f'Оценка CRA_B - CRA_A: {cra_test_results.diff}')\n",
    "\n",
    "# доверительный интервал разницы\n",
    "print('Доверительный интервал разницы значений:')\n",
    "proportion.confint_proportions_2indep(b_group.sum(), b_group.count(), a_group.sum(), a_group.count())"
   ]
  },
  {
   "cell_type": "markdown",
   "metadata": {},
   "source": [
    "Результат не позволяет отклонить нулевую гипотезу, доверительный интервал включает ноль - значит, разницу коэффициентов конверсии **CR_A** нельзя признать статистически значимой.  \n",
    "Проделаем те же операции для коэффициента конверсии **CR:**"
   ]
  },
  {
   "cell_type": "code",
   "execution_count": 32,
   "metadata": {},
   "outputs": [],
   "source": [
    "a_group = cr_df[cr_df.group == 'A'].revenue\n",
    "b_group = cr_df[cr_df.group == 'B'].revenue"
   ]
  },
  {
   "cell_type": "code",
   "execution_count": 33,
   "metadata": {},
   "outputs": [
    {
     "name": "stdout",
     "output_type": "stream",
     "text": [
      "P-value: 0.9132973272663066\n",
      "Оценка CRA_B - CRA_A: -3.491347250076087e-05\n",
      "Доверительный интервал разницы значений:\n"
     ]
    },
    {
     "data": {
      "text/plain": [
       "(-0.0016777533880380782, 0.0014051113850079028)"
      ]
     },
     "execution_count": 33,
     "metadata": {},
     "output_type": "execute_result"
    }
   ],
   "source": [
    "# результат сравнения двух независимых отношений (pvalue и оценка абсолютной разницы показателей)\n",
    "cr_test_results = proportion.test_proportions_2indep(b_group.sum(), b_group.count(), a_group.sum(), a_group.count())\n",
    "print(f'P-value: {cr_test_results.pvalue}')\n",
    "print(f'Оценка CRA_B - CRA_A: {cr_test_results.diff}')\n",
    "\n",
    "# доверительный интервал разницы\n",
    "print('Доверительный интервал разницы значений:')\n",
    "proportion.confint_proportions_2indep(b_group.sum(), b_group.count(), a_group.sum(), a_group.count())"
   ]
  },
  {
   "cell_type": "markdown",
   "metadata": {},
   "source": [
    "Аналогичный результат: нулевую гипотезу отклонить нельзя, оцениваемая разница коэффициентов очень мала, доверительный интервал включает ноль. Делаем вывод об отсутствии статистически значимой разницы между коэффициентами конверсии в двух группах."
   ]
  },
  {
   "cell_type": "markdown",
   "metadata": {},
   "source": [
    "## Вывод по итогам проведенного теста:   \n",
    "\n",
    "## полученная разница в значениях ARPPU статистически значима, в целевой группе показатель выше на 29%. При этом статистически значимой разницы в значениях конверсии не обнаружено.  \n",
    "## Как итог -  можно предложить новую механику оплаты всем пользователям."
   ]
  },
  {
   "cell_type": "code",
   "execution_count": null,
   "metadata": {},
   "outputs": [],
   "source": []
  },
  {
   "cell_type": "markdown",
   "metadata": {},
   "source": [
    "#    Задание 3\n",
    "Реализуйте функцию, которая будет автоматически подгружать информацию из дополнительного файла groups_add.csv (заголовки могут отличаться) и на основании дополнительных параметров пересчитывать метрики.  \n",
    "Реализуйте функцию, которая будет строить графики по получаемым метрикам.  "
   ]
  },
  {
   "cell_type": "code",
   "execution_count": 34,
   "metadata": {},
   "outputs": [],
   "source": [
    "def add_data(groups_add_path='groups_add.csv',\n",
    "             groups=groups,\n",
    "             checks=checks,\n",
    "             active_studs=active_studs):\n",
    "    \"\"\"\n",
    "    функция подгружает информацию из дополнительного файла groups_add.csv (заголовки могут отличаться)\n",
    "    и на основании дополнительных параметров пересчитываeт метрики.\n",
    "\n",
    "    Параметры:\n",
    "        groups_add_path = 'groups_add.csv', - дополнительный файл\n",
    "        groups=groups  - распределение пользователей по группам\n",
    "        checks=checks  - данные по оплатам\n",
    "        active_studs=active_studs  - данные по активности пользователей\n",
    "\n",
    "     Возвращает датафрейм с метриками по группам\n",
    "    \"\"\"\n",
    "    # переименовываем колонки в student_id и group\n",
    "    groups = groups.rename(columns={'id': 'student_id', 'grp': 'group'})\n",
    "\n",
    "    # считываем файл, переименовываем колонки в student_id и group\n",
    "    groups_add = pd.read_csv(groups_add_path, sep=';')\n",
    "    for col in groups_add.columns:\n",
    "        if set(groups_add[col].unique()) == set(groups.group.unique()):\n",
    "            groups_add.rename(columns={col: 'group'})\n",
    "        else:\n",
    "            groups_add.rename(columns={col: 'student_id'})\n",
    "\n",
    "    # объединим данные по принадлежности к группам\n",
    "    groups = groups.append(groups_add).drop_duplicates()\n",
    "\n",
    "    # добавим колонку активности в active_studs\n",
    "    active_studs = active_studs.assign(activity=1)\n",
    "\n",
    "    # сведем данные в один датасет\n",
    "    df = groups \\\n",
    "        .merge(active_studs.assign(activity=1), how='left', on='student_id') \\\n",
    "        .merge(checks, on='student_id', how='left') \\\n",
    "        .rename(columns={'rev': 'revenue'})\n",
    "\n",
    "    # Проверим, нет ли оплат, совершенных неактивными пользователями.\n",
    "    # Отметим этих пользователей меткой '1' в колонке activity, остальным, неактивным, присвоим значение активности '0'.\n",
    "    missed_active_df = df.query(\"activity != 1 & revenue.notna()\")\n",
    "    print(f'Пользователей, оплативших курсы и не отмеченных, как активные: {missed_active_df.student_id.count()}')\n",
    "    df = missed_active_df.fillna(1) \\\n",
    "        .append(df.loc[~df.student_id.isin(missed_active_df['student_id'])])\n",
    "    df.activity.fillna(0, inplace=True)\n",
    "\n",
    "    # заведем отдельный датафрейм для формирования таблицы метрик по группам\n",
    "    metrics = pd.DataFrame(index=['A', 'B'])\n",
    "    metrics['users'] = df.groupby('group').agg({'student_id': 'count'}).student_id\n",
    "    metrics['active_users'] = df.groupby('group').agg({'activity': 'sum'}).activity\n",
    "    metrics['paying_users'] = df.groupby('group').agg({'revenue': 'count'}).revenue\n",
    "    metrics['revenue'] = df.groupby('group').agg({'revenue': 'sum'})\n",
    "\n",
    "    # соответствующие метрики\n",
    "    metrics['ARPPU'] = metrics.revenue / metrics.paying_users\n",
    "    metrics['ARPAU'] = metrics.revenue / metrics.active_users\n",
    "    metrics['ARPU'] = metrics.revenue / metrics.users\n",
    "    metrics['CR'] = metrics.paying_users / metrics.users * 100\n",
    "    metrics['CR_A'] = metrics.paying_users / metrics.active_users * 100\n",
    "\n",
    "    return metrics"
   ]
  },
  {
   "cell_type": "code",
   "execution_count": 35,
   "metadata": {},
   "outputs": [],
   "source": [
    "def metrics_plot(metrics=metrics.reset_index(), full_data=df):\n",
    "    \"\"\"\n",
    "    Функция строит графики по полученным метрикам\n",
    "    metrics=metrics.reset_index() - таблица метрик\n",
    "    full_data=df - данные для расчета метрик (для построения графика по распределению сумм оплат по группам)\n",
    "    \"\"\"\n",
    "    # распределение сумм оплат по группам\n",
    "    revenue_dist_plot(full_data)\n",
    "\n",
    "    # столбичные графики по метрикам в разрезе групп\n",
    "    sns.set_theme(style=\"whitegrid\", palette='winter')\n",
    "    sns.set_palette('colorblind')\n",
    "\n",
    "    fig, axes = plt.subplots(nrows=1, ncols=5, figsize=(20, 5))\n",
    "    fig.suptitle('Сравнение рассчитанных метрик в контрольной (А) и целевой (В) группах', fontsize=18)\n",
    "\n",
    "    metrics_list = ['ARPPU', 'ARPAU', 'ARPU', 'CR', 'CR_A']\n",
    "    titles = ['ARPPU', 'ARPAU', 'ARPU', 'Конверсия в покупку', 'Конверсия активных пользователей в покупку']\n",
    "    for title, metric, ax in zip(titles, metrics_list, axes.flatten()):\n",
    "        sns.barplot(x='index', y=metric, data=metrics, ax=ax)\n",
    "        ax.set(title=title, xlabel='', ylabel='')\n",
    "\n",
    "    fig.tight_layout()\n",
    "    plt.subplots_adjust(top=0.8)\n",
    "    plt.show()"
   ]
  },
  {
   "cell_type": "code",
   "execution_count": 36,
   "metadata": {},
   "outputs": [
    {
     "name": "stdout",
     "output_type": "stream",
     "text": [
      "Пользователей, оплативших курсы и не отмеченных, как активные: 149\n"
     ]
    },
    {
     "data": {
      "text/html": [
       "<div>\n",
       "<style scoped>\n",
       "    .dataframe tbody tr th:only-of-type {\n",
       "        vertical-align: middle;\n",
       "    }\n",
       "\n",
       "    .dataframe tbody tr th {\n",
       "        vertical-align: top;\n",
       "    }\n",
       "\n",
       "    .dataframe thead th {\n",
       "        text-align: right;\n",
       "    }\n",
       "</style>\n",
       "<table border=\"1\" class=\"dataframe\">\n",
       "  <thead>\n",
       "    <tr style=\"text-align: right;\">\n",
       "      <th></th>\n",
       "      <th>users</th>\n",
       "      <th>active_users</th>\n",
       "      <th>paying_users</th>\n",
       "      <th>revenue</th>\n",
       "      <th>ARPPU</th>\n",
       "      <th>ARPAU</th>\n",
       "      <th>ARPU</th>\n",
       "      <th>CR</th>\n",
       "      <th>CR_A</th>\n",
       "    </tr>\n",
       "  </thead>\n",
       "  <tbody>\n",
       "    <tr>\n",
       "      <th>A</th>\n",
       "      <td>14693</td>\n",
       "      <td>1567.0</td>\n",
       "      <td>107</td>\n",
       "      <td>92096.0000</td>\n",
       "      <td>860.710280</td>\n",
       "      <td>58.772176</td>\n",
       "      <td>6.268019</td>\n",
       "      <td>0.728238</td>\n",
       "      <td>6.828334</td>\n",
       "    </tr>\n",
       "    <tr>\n",
       "      <th>B</th>\n",
       "      <td>59883</td>\n",
       "      <td>6923.0</td>\n",
       "      <td>434</td>\n",
       "      <td>481230.0036</td>\n",
       "      <td>1108.824893</td>\n",
       "      <td>69.511773</td>\n",
       "      <td>8.036171</td>\n",
       "      <td>0.724747</td>\n",
       "      <td>6.268959</td>\n",
       "    </tr>\n",
       "  </tbody>\n",
       "</table>\n",
       "</div>"
      ],
      "text/plain": [
       "   users  active_users  paying_users      revenue        ARPPU      ARPAU  \\\n",
       "A  14693        1567.0           107   92096.0000   860.710280  58.772176   \n",
       "B  59883        6923.0           434  481230.0036  1108.824893  69.511773   \n",
       "\n",
       "       ARPU        CR      CR_A  \n",
       "A  6.268019  0.728238  6.828334  \n",
       "B  8.036171  0.724747  6.268959  "
      ]
     },
     "execution_count": 36,
     "metadata": {},
     "output_type": "execute_result"
    }
   ],
   "source": [
    "add_data(groups_add_path=download_urls['groups'])"
   ]
  },
  {
   "cell_type": "code",
   "execution_count": 37,
   "metadata": {},
   "outputs": [
    {
     "data": {
      "image/png": "[encoded data removed]",
      "text/plain": [
       "<Figure size 1152x360 with 3 Axes>"
      ]
     },
     "metadata": {},
     "output_type": "display_data"
    },
    {
     "data": {
      "image/png": "[encoded data removed]",
      "text/plain": [
       "<Figure size 1440x360 with 5 Axes>"
      ]
     },
     "metadata": {},
     "output_type": "display_data"
    }
   ],
   "source": [
    "metrics_plot()"
   ]
  },
  {
   "cell_type": "code",
   "execution_count": null,
   "metadata": {},
   "outputs": [],
   "source": []
  }
 ],
 "metadata": {
  "kernelspec": {
   "display_name": "Python 3",
   "language": "python",
   "name": "python3"
  },
  "language_info": {
   "codemirror_mode": {
    "name": "ipython",
    "version": 3
   },
   "file_extension": ".py",
   "mimetype": "text/x-python",
   "name": "python",
   "nbconvert_exporter": "python",
   "pygments_lexer": "ipython3",
   "version": "3.7.3"
  }
 },
 "nbformat": 4,
 "nbformat_minor": 4
}
